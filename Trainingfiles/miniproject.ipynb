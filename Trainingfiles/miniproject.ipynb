{
  "cells": [
    {
      "cell_type": "code",
      "execution_count": 1,
      "metadata": {
        "id": "3rKSWmwE9rJy"
      },
      "outputs": [],
      "source": [
        "from keras.models import Sequential\n",
        "from keras.layers import Convolution2D, Flatten, Dense, MaxPooling2D\n",
        "from keras.preprocessing.image import ImageDataGenerator"
      ]
    },
    {
      "cell_type": "code",
      "execution_count": 2,
      "metadata": {
        "id": "4qy20rmx-HO-"
      },
      "outputs": [],
      "source": [
        "train_datagen=ImageDataGenerator(horizontal_flip=True,rescale=1./255,zoom_range=0.2)"
      ]
    },
    {
      "cell_type": "code",
      "execution_count": 3,
      "metadata": {
        "id": "qXxVtk-W9tX2"
      },
      "outputs": [],
      "source": [
        "test_datagen=ImageDataGenerator(rescale=1./255)"
      ]
    },
    {
      "cell_type": "code",
      "execution_count": 4,
      "metadata": {
        "colab": {
          "base_uri": "https://localhost:8080/"
        },
        "id": "azoZ3nmE9tUe",
        "outputId": "d4464493-af10-4b33-fa51-1a656d9b1334"
      },
      "outputs": [
        {
          "output_type": "stream",
          "name": "stdout",
          "text": [
            "Found 351 images belonging to 4 classes.\n"
          ]
        }
      ],
      "source": [
        "X_train=train_datagen.flow_from_directory(\"/content/drive/MyDrive/mini_vec/Coal Classification/\",target_size=(128,128),class_mode='categorical',batch_size=4)"
      ]
    },
    {
      "cell_type": "code",
      "execution_count": 5,
      "metadata": {
        "colab": {
          "base_uri": "https://localhost:8080/"
        },
        "id": "Y-8lT-x19tR0",
        "outputId": "e962b13b-fa5a-4f6f-a037-c3e017a3b44f"
      },
      "outputs": [
        {
          "output_type": "stream",
          "name": "stdout",
          "text": [
            "Found 351 images belonging to 4 classes.\n"
          ]
        }
      ],
      "source": [
        "X_test=test_datagen.flow_from_directory(\"/content/drive/MyDrive/mini_vec/Coal Classification/\",target_size=(128,128),class_mode='categorical',batch_size=4)"
      ]
    },
    {
      "cell_type": "code",
      "execution_count": 6,
      "metadata": {
        "id": "21nE7AOD9tNn"
      },
      "outputs": [],
      "source": [
        "from tensorflow.keras.models import Sequential\n",
        "from tensorflow.keras.layers import Dense\n",
        "from tensorflow.keras.layers import Convolution2D\n",
        "from tensorflow.keras.layers import MaxPooling2D\n",
        "from tensorflow.keras.layers import Flatten\n",
        "from tensorflow.keras.optimizers import Adam"
      ]
    },
    {
      "cell_type": "code",
      "execution_count": 7,
      "metadata": {
        "id": "IfL_bBdQ9tKP"
      },
      "outputs": [],
      "source": [
        "#initialising the model\n",
        "model=Sequential()"
      ]
    },
    {
      "cell_type": "code",
      "execution_count": 8,
      "metadata": {
        "id": "389G-_9d9tH7"
      },
      "outputs": [],
      "source": [
        "#adding the cnn\n",
        "model.add(Convolution2D(32,(3,3),input_shape=(128,128,3),activation='relu'))"
      ]
    },
    {
      "cell_type": "code",
      "execution_count": 9,
      "metadata": {
        "id": "t6aw-GZ99tFX"
      },
      "outputs": [],
      "source": [
        "model.add(MaxPooling2D(pool_size=(2,2)))"
      ]
    },
    {
      "cell_type": "code",
      "execution_count": 10,
      "metadata": {
        "id": "vE6qKDzb9tCq"
      },
      "outputs": [],
      "source": [
        "model.add(Convolution2D(32,(3,3),activation='relu'))"
      ]
    },
    {
      "cell_type": "code",
      "execution_count": 11,
      "metadata": {
        "id": "Z85FPI6x9s_x"
      },
      "outputs": [],
      "source": [
        "model.add(MaxPooling2D(pool_size=(2,2)))"
      ]
    },
    {
      "cell_type": "code",
      "execution_count": 12,
      "metadata": {
        "id": "AolQPwMz9s04"
      },
      "outputs": [],
      "source": [
        "model.add(Flatten())"
      ]
    },
    {
      "cell_type": "code",
      "execution_count": 13,
      "metadata": {
        "colab": {
          "base_uri": "https://localhost:8080/"
        },
        "id": "1uQ0H6_K99XK",
        "outputId": "5ccc9ce1-1a58-4b16-ae36-06b22d98e77a"
      },
      "outputs": [
        {
          "output_type": "stream",
          "name": "stdout",
          "text": [
            "Model: \"sequential\"\n",
            "_________________________________________________________________\n",
            " Layer (type)                Output Shape              Param #   \n",
            "=================================================================\n",
            " conv2d (Conv2D)             (None, 126, 126, 32)      896       \n",
            "                                                                 \n",
            " max_pooling2d (MaxPooling2D  (None, 63, 63, 32)       0         \n",
            " )                                                               \n",
            "                                                                 \n",
            " conv2d_1 (Conv2D)           (None, 61, 61, 32)        9248      \n",
            "                                                                 \n",
            " max_pooling2d_1 (MaxPooling  (None, 30, 30, 32)       0         \n",
            " 2D)                                                             \n",
            "                                                                 \n",
            " flatten (Flatten)           (None, 28800)             0         \n",
            "                                                                 \n",
            "=================================================================\n",
            "Total params: 10,144\n",
            "Trainable params: 10,144\n",
            "Non-trainable params: 0\n",
            "_________________________________________________________________\n"
          ]
        }
      ],
      "source": [
        "model.summary()"
      ]
    },
    {
      "cell_type": "code",
      "execution_count": 14,
      "metadata": {
        "colab": {
          "base_uri": "https://localhost:8080/"
        },
        "id": "Dz-c4dA_-C_F",
        "outputId": "c9abffee-89e9-4452-9de0-d7f505fea377"
      },
      "outputs": [
        {
          "output_type": "stream",
          "name": "stdout",
          "text": [
            "Model: \"sequential\"\n",
            "_________________________________________________________________\n",
            " Layer (type)                Output Shape              Param #   \n",
            "=================================================================\n",
            " conv2d (Conv2D)             (None, 126, 126, 32)      896       \n",
            "                                                                 \n",
            " max_pooling2d (MaxPooling2D  (None, 63, 63, 32)       0         \n",
            " )                                                               \n",
            "                                                                 \n",
            " conv2d_1 (Conv2D)           (None, 61, 61, 32)        9248      \n",
            "                                                                 \n",
            " max_pooling2d_1 (MaxPooling  (None, 30, 30, 32)       0         \n",
            " 2D)                                                             \n",
            "                                                                 \n",
            " flatten (Flatten)           (None, 28800)             0         \n",
            "                                                                 \n",
            " dense (Dense)               (None, 300)               8640300   \n",
            "                                                                 \n",
            " dense_1 (Dense)             (None, 150)               45150     \n",
            "                                                                 \n",
            " dense_2 (Dense)             (None, 4)                 604       \n",
            "                                                                 \n",
            "=================================================================\n",
            "Total params: 8,696,198\n",
            "Trainable params: 8,696,198\n",
            "Non-trainable params: 0\n",
            "_________________________________________________________________\n"
          ]
        }
      ],
      "source": [
        "#denser layers\n",
        "model.add(Dense(300,activation='relu'))\n",
        "model.add(Dense(150,activation='relu'))\n",
        "model.add(Dense(4,activation='softmax'))\n",
        "model.summary()"
      ]
    },
    {
      "cell_type": "code",
      "execution_count": 15,
      "metadata": {
        "id": "YSdbtck2-dRD"
      },
      "outputs": [],
      "source": [
        "model.compile(optimizer=\"adam\",loss=\"categorical_crossentropy\", metrics=['accuracy'])"
      ]
    },
    {
      "cell_type": "code",
      "execution_count": 16,
      "metadata": {
        "colab": {
          "base_uri": "https://localhost:8080/"
        },
        "id": "1CoL3bs8-rWO",
        "outputId": "20201860-a293-449c-ff5f-62b44f4b5057"
      },
      "outputs": [
        {
          "output_type": "stream",
          "name": "stderr",
          "text": [
            "/usr/local/lib/python3.7/dist-packages/ipykernel_launcher.py:2: UserWarning: `Model.fit_generator` is deprecated and will be removed in a future version. Please use `Model.fit`, which supports generators.\n",
            "  \n"
          ]
        },
        {
          "output_type": "stream",
          "name": "stdout",
          "text": [
            "Epoch 1/30\n",
            "88/88 [==============================] - 95s 1s/step - loss: 1.6613 - accuracy: 0.2934 - val_loss: 1.3457 - val_accuracy: 0.3590\n",
            "Epoch 2/30\n",
            "88/88 [==============================] - 26s 291ms/step - loss: 1.3648 - accuracy: 0.2963 - val_loss: 1.3633 - val_accuracy: 0.3818\n",
            "Epoch 3/30\n",
            "88/88 [==============================] - 26s 293ms/step - loss: 1.3490 - accuracy: 0.3533 - val_loss: 1.3056 - val_accuracy: 0.4131\n",
            "Epoch 4/30\n",
            "88/88 [==============================] - 26s 292ms/step - loss: 1.3255 - accuracy: 0.3875 - val_loss: 1.2967 - val_accuracy: 0.4017\n",
            "Epoch 5/30\n",
            "88/88 [==============================] - 26s 290ms/step - loss: 1.3203 - accuracy: 0.3761 - val_loss: 1.2381 - val_accuracy: 0.4217\n",
            "Epoch 6/30\n",
            "88/88 [==============================] - 28s 318ms/step - loss: 1.2886 - accuracy: 0.3875 - val_loss: 1.3689 - val_accuracy: 0.3818\n",
            "Epoch 7/30\n",
            "88/88 [==============================] - 26s 292ms/step - loss: 1.2610 - accuracy: 0.4188 - val_loss: 1.2211 - val_accuracy: 0.4131\n",
            "Epoch 8/30\n",
            "88/88 [==============================] - 26s 296ms/step - loss: 1.2312 - accuracy: 0.4558 - val_loss: 1.1083 - val_accuracy: 0.5584\n",
            "Epoch 9/30\n",
            "88/88 [==============================] - 26s 292ms/step - loss: 1.1939 - accuracy: 0.4530 - val_loss: 0.9994 - val_accuracy: 0.5897\n",
            "Epoch 10/30\n",
            "88/88 [==============================] - 26s 291ms/step - loss: 1.0943 - accuracy: 0.5299 - val_loss: 0.9186 - val_accuracy: 0.6040\n",
            "Epoch 11/30\n",
            "88/88 [==============================] - 26s 298ms/step - loss: 1.0457 - accuracy: 0.5356 - val_loss: 0.9338 - val_accuracy: 0.6182\n",
            "Epoch 12/30\n",
            "88/88 [==============================] - 25s 290ms/step - loss: 0.9590 - accuracy: 0.6125 - val_loss: 0.8407 - val_accuracy: 0.6667\n",
            "Epoch 13/30\n",
            "88/88 [==============================] - 26s 293ms/step - loss: 1.0530 - accuracy: 0.5670 - val_loss: 0.7287 - val_accuracy: 0.7151\n",
            "Epoch 14/30\n",
            "88/88 [==============================] - 26s 295ms/step - loss: 0.8691 - accuracy: 0.6353 - val_loss: 0.7076 - val_accuracy: 0.7293\n",
            "Epoch 15/30\n",
            "88/88 [==============================] - 27s 312ms/step - loss: 0.8627 - accuracy: 0.6638 - val_loss: 0.7641 - val_accuracy: 0.6866\n",
            "Epoch 16/30\n",
            "88/88 [==============================] - 26s 292ms/step - loss: 0.8562 - accuracy: 0.6467 - val_loss: 0.6726 - val_accuracy: 0.7550\n",
            "Epoch 17/30\n",
            "88/88 [==============================] - 26s 292ms/step - loss: 0.7694 - accuracy: 0.6752 - val_loss: 0.5958 - val_accuracy: 0.7835\n",
            "Epoch 18/30\n",
            "88/88 [==============================] - 26s 294ms/step - loss: 0.6854 - accuracy: 0.7208 - val_loss: 0.4812 - val_accuracy: 0.8205\n",
            "Epoch 19/30\n",
            "88/88 [==============================] - 26s 294ms/step - loss: 0.7154 - accuracy: 0.7151 - val_loss: 0.5313 - val_accuracy: 0.8034\n",
            "Epoch 20/30\n",
            "88/88 [==============================] - 28s 314ms/step - loss: 0.6011 - accuracy: 0.7493 - val_loss: 0.4465 - val_accuracy: 0.8433\n",
            "Epoch 21/30\n",
            "88/88 [==============================] - 26s 290ms/step - loss: 0.6305 - accuracy: 0.7664 - val_loss: 0.4636 - val_accuracy: 0.8234\n",
            "Epoch 22/30\n",
            "88/88 [==============================] - 26s 292ms/step - loss: 0.6538 - accuracy: 0.7322 - val_loss: 0.3797 - val_accuracy: 0.8547\n",
            "Epoch 23/30\n",
            "88/88 [==============================] - 26s 293ms/step - loss: 0.5310 - accuracy: 0.8006 - val_loss: 0.4600 - val_accuracy: 0.8205\n",
            "Epoch 24/30\n",
            "88/88 [==============================] - 26s 293ms/step - loss: 0.5222 - accuracy: 0.7920 - val_loss: 0.4905 - val_accuracy: 0.8262\n",
            "Epoch 25/30\n",
            "88/88 [==============================] - 26s 294ms/step - loss: 0.5005 - accuracy: 0.8091 - val_loss: 0.3402 - val_accuracy: 0.8575\n",
            "Epoch 26/30\n",
            "88/88 [==============================] - 28s 314ms/step - loss: 0.4452 - accuracy: 0.8234 - val_loss: 0.3678 - val_accuracy: 0.8746\n",
            "Epoch 27/30\n",
            "88/88 [==============================] - 26s 293ms/step - loss: 0.6686 - accuracy: 0.7407 - val_loss: 0.3605 - val_accuracy: 0.8661\n",
            "Epoch 28/30\n",
            "88/88 [==============================] - 26s 292ms/step - loss: 0.5121 - accuracy: 0.8120 - val_loss: 0.3279 - val_accuracy: 0.8718\n",
            "Epoch 29/30\n",
            "88/88 [==============================] - 26s 293ms/step - loss: 0.4904 - accuracy: 0.8034 - val_loss: 0.2813 - val_accuracy: 0.8860\n",
            "Epoch 30/30\n",
            "88/88 [==============================] - 26s 292ms/step - loss: 0.4109 - accuracy: 0.8575 - val_loss: 0.2820 - val_accuracy: 0.8917\n"
          ]
        },
        {
          "output_type": "execute_result",
          "data": {
            "text/plain": [
              "<keras.callbacks.History at 0x7f3d87909c90>"
            ]
          },
          "metadata": {},
          "execution_count": 16
        }
      ],
      "source": [
        "#training the model \n",
        "model.fit_generator(X_train,validation_data=X_test,epochs=30)"
      ]
    },
    {
      "cell_type": "code",
      "execution_count": 17,
      "metadata": {
        "id": "4zuvALrq-zI3"
      },
      "outputs": [],
      "source": [
        "#saving the model\n",
        "model.save('coal.h5')"
      ]
    },
    {
      "cell_type": "code",
      "execution_count": 18,
      "metadata": {
        "id": "gucJ0VTd6VMN"
      },
      "outputs": [],
      "source": [
        "import numpy as np\n"
      ]
    },
    {
      "cell_type": "code",
      "execution_count": 19,
      "metadata": {
        "id": "ETRs_11Z6Zi1"
      },
      "outputs": [],
      "source": [
        "#testing the model\n",
        "from tensorflow.keras.preprocessing import image"
      ]
    },
    {
      "cell_type": "code",
      "execution_count": 20,
      "metadata": {
        "colab": {
          "base_uri": "https://localhost:8080/",
          "height": 467
        },
        "id": "alQD4Dc36Zfc",
        "outputId": "c0821c3b-aceb-4019-ded4-ac9e78994a00"
      },
      "outputs": [
        {
          "output_type": "error",
          "ename": "OSError",
          "evalue": "ignored",
          "traceback": [
            "\u001b[0;31m---------------------------------------------------------------------------\u001b[0m",
            "\u001b[0;31mOSError\u001b[0m                                   Traceback (most recent call last)",
            "\u001b[0;32m<ipython-input-20-15097a8a77f9>\u001b[0m in \u001b[0;36m<module>\u001b[0;34m\u001b[0m\n\u001b[1;32m      1\u001b[0m \u001b[0;32mfrom\u001b[0m \u001b[0mtensorflow\u001b[0m\u001b[0;34m.\u001b[0m\u001b[0mkeras\u001b[0m\u001b[0;34m.\u001b[0m\u001b[0mmodels\u001b[0m \u001b[0;32mimport\u001b[0m \u001b[0mload_model\u001b[0m\u001b[0;34m\u001b[0m\u001b[0;34m\u001b[0m\u001b[0m\n\u001b[0;32m----> 2\u001b[0;31m \u001b[0mmodel\u001b[0m\u001b[0;34m.\u001b[0m\u001b[0mload_weights\u001b[0m\u001b[0;34m(\u001b[0m\u001b[0;34m'coall.h5'\u001b[0m\u001b[0;34m)\u001b[0m\u001b[0;34m\u001b[0m\u001b[0;34m\u001b[0m\u001b[0m\n\u001b[0m",
            "\u001b[0;32m/usr/local/lib/python3.7/dist-packages/keras/utils/traceback_utils.py\u001b[0m in \u001b[0;36merror_handler\u001b[0;34m(*args, **kwargs)\u001b[0m\n\u001b[1;32m     65\u001b[0m     \u001b[0;32mexcept\u001b[0m \u001b[0mException\u001b[0m \u001b[0;32mas\u001b[0m \u001b[0me\u001b[0m\u001b[0;34m:\u001b[0m  \u001b[0;31m# pylint: disable=broad-except\u001b[0m\u001b[0;34m\u001b[0m\u001b[0;34m\u001b[0m\u001b[0m\n\u001b[1;32m     66\u001b[0m       \u001b[0mfiltered_tb\u001b[0m \u001b[0;34m=\u001b[0m \u001b[0m_process_traceback_frames\u001b[0m\u001b[0;34m(\u001b[0m\u001b[0me\u001b[0m\u001b[0;34m.\u001b[0m\u001b[0m__traceback__\u001b[0m\u001b[0;34m)\u001b[0m\u001b[0;34m\u001b[0m\u001b[0;34m\u001b[0m\u001b[0m\n\u001b[0;32m---> 67\u001b[0;31m       \u001b[0;32mraise\u001b[0m \u001b[0me\u001b[0m\u001b[0;34m.\u001b[0m\u001b[0mwith_traceback\u001b[0m\u001b[0;34m(\u001b[0m\u001b[0mfiltered_tb\u001b[0m\u001b[0;34m)\u001b[0m \u001b[0;32mfrom\u001b[0m \u001b[0;32mNone\u001b[0m\u001b[0;34m\u001b[0m\u001b[0;34m\u001b[0m\u001b[0m\n\u001b[0m\u001b[1;32m     68\u001b[0m     \u001b[0;32mfinally\u001b[0m\u001b[0;34m:\u001b[0m\u001b[0;34m\u001b[0m\u001b[0;34m\u001b[0m\u001b[0m\n\u001b[1;32m     69\u001b[0m       \u001b[0;32mdel\u001b[0m \u001b[0mfiltered_tb\u001b[0m\u001b[0;34m\u001b[0m\u001b[0;34m\u001b[0m\u001b[0m\n",
            "\u001b[0;32m/usr/local/lib/python3.7/dist-packages/h5py/_hl/files.py\u001b[0m in \u001b[0;36m__init__\u001b[0;34m(self, name, mode, driver, libver, userblock_size, swmr, rdcc_nslots, rdcc_nbytes, rdcc_w0, track_order, fs_strategy, fs_persist, fs_threshold, **kwds)\u001b[0m\n\u001b[1;32m    425\u001b[0m                                fapl, fcpl=make_fcpl(track_order=track_order, fs_strategy=fs_strategy,\n\u001b[1;32m    426\u001b[0m                                fs_persist=fs_persist, fs_threshold=fs_threshold),\n\u001b[0;32m--> 427\u001b[0;31m                                swmr=swmr)\n\u001b[0m\u001b[1;32m    428\u001b[0m \u001b[0;34m\u001b[0m\u001b[0m\n\u001b[1;32m    429\u001b[0m             \u001b[0;32mif\u001b[0m \u001b[0misinstance\u001b[0m\u001b[0;34m(\u001b[0m\u001b[0mlibver\u001b[0m\u001b[0;34m,\u001b[0m \u001b[0mtuple\u001b[0m\u001b[0;34m)\u001b[0m\u001b[0;34m:\u001b[0m\u001b[0;34m\u001b[0m\u001b[0;34m\u001b[0m\u001b[0m\n",
            "\u001b[0;32m/usr/local/lib/python3.7/dist-packages/h5py/_hl/files.py\u001b[0m in \u001b[0;36mmake_fid\u001b[0;34m(name, mode, userblock_size, fapl, fcpl, swmr)\u001b[0m\n\u001b[1;32m    188\u001b[0m         \u001b[0;32mif\u001b[0m \u001b[0mswmr\u001b[0m \u001b[0;32mand\u001b[0m \u001b[0mswmr_support\u001b[0m\u001b[0;34m:\u001b[0m\u001b[0;34m\u001b[0m\u001b[0;34m\u001b[0m\u001b[0m\n\u001b[1;32m    189\u001b[0m             \u001b[0mflags\u001b[0m \u001b[0;34m|=\u001b[0m \u001b[0mh5f\u001b[0m\u001b[0;34m.\u001b[0m\u001b[0mACC_SWMR_READ\u001b[0m\u001b[0;34m\u001b[0m\u001b[0;34m\u001b[0m\u001b[0m\n\u001b[0;32m--> 190\u001b[0;31m         \u001b[0mfid\u001b[0m \u001b[0;34m=\u001b[0m \u001b[0mh5f\u001b[0m\u001b[0;34m.\u001b[0m\u001b[0mopen\u001b[0m\u001b[0;34m(\u001b[0m\u001b[0mname\u001b[0m\u001b[0;34m,\u001b[0m \u001b[0mflags\u001b[0m\u001b[0;34m,\u001b[0m \u001b[0mfapl\u001b[0m\u001b[0;34m=\u001b[0m\u001b[0mfapl\u001b[0m\u001b[0;34m)\u001b[0m\u001b[0;34m\u001b[0m\u001b[0;34m\u001b[0m\u001b[0m\n\u001b[0m\u001b[1;32m    191\u001b[0m     \u001b[0;32melif\u001b[0m \u001b[0mmode\u001b[0m \u001b[0;34m==\u001b[0m \u001b[0;34m'r+'\u001b[0m\u001b[0;34m:\u001b[0m\u001b[0;34m\u001b[0m\u001b[0;34m\u001b[0m\u001b[0m\n\u001b[1;32m    192\u001b[0m         \u001b[0mfid\u001b[0m \u001b[0;34m=\u001b[0m \u001b[0mh5f\u001b[0m\u001b[0;34m.\u001b[0m\u001b[0mopen\u001b[0m\u001b[0;34m(\u001b[0m\u001b[0mname\u001b[0m\u001b[0;34m,\u001b[0m \u001b[0mh5f\u001b[0m\u001b[0;34m.\u001b[0m\u001b[0mACC_RDWR\u001b[0m\u001b[0;34m,\u001b[0m \u001b[0mfapl\u001b[0m\u001b[0;34m=\u001b[0m\u001b[0mfapl\u001b[0m\u001b[0;34m)\u001b[0m\u001b[0;34m\u001b[0m\u001b[0;34m\u001b[0m\u001b[0m\n",
            "\u001b[0;32mh5py/_objects.pyx\u001b[0m in \u001b[0;36mh5py._objects.with_phil.wrapper\u001b[0;34m()\u001b[0m\n",
            "\u001b[0;32mh5py/_objects.pyx\u001b[0m in \u001b[0;36mh5py._objects.with_phil.wrapper\u001b[0;34m()\u001b[0m\n",
            "\u001b[0;32mh5py/h5f.pyx\u001b[0m in \u001b[0;36mh5py.h5f.open\u001b[0;34m()\u001b[0m\n",
            "\u001b[0;31mOSError\u001b[0m: Unable to open file (unable to open file: name = 'coall.h5', errno = 2, error message = 'No such file or directory', flags = 0, o_flags = 0)"
          ]
        }
      ],
      "source": [
        "from tensorflow.keras.models import load_model\n",
        "model.load_weights('coal.h5')"
      ]
    },
    {
      "cell_type": "code",
      "execution_count": null,
      "metadata": {
        "id": "R_IAyaOg6ZdY"
      },
      "outputs": [],
      "source": [
        "img=image.load_img(\"/content/1.jpeg\",target_size=(128,128))\n",
        "x=image.img_to_array(img)\n",
        "x.shape"
      ]
    },
    {
      "cell_type": "code",
      "execution_count": null,
      "metadata": {
        "id": "K4gTPRGG6ZbT"
      },
      "outputs": [],
      "source": [
        "x=np.expand_dims(x,axis=0)\n",
        "x.shape"
      ]
    },
    {
      "cell_type": "code",
      "execution_count": null,
      "metadata": {
        "id": "PdFpAKs46ZZh"
      },
      "outputs": [],
      "source": [
        "\n",
        "prediction=model.predict(x)\n",
        "prediction"
      ]
    },
    {
      "cell_type": "code",
      "execution_count": null,
      "metadata": {
        "id": "eEGlowFp6ZXE"
      },
      "outputs": [],
      "source": [
        "index=[\"Anthracite\",\"Bituminous\",\"Lignite\",\"Peat\"]"
      ]
    },
    {
      "cell_type": "code",
      "execution_count": null,
      "metadata": {
        "id": "ZWF0sFIO6ZUv"
      },
      "outputs": [],
      "source": [
        "    result=str(np.array(index)[0])\n",
        "    result"
      ]
    },
    {
      "cell_type": "code",
      "execution_count": null,
      "metadata": {
        "id": "daf38Od6-EYr"
      },
      "outputs": [],
      "source": []
    }
  ],
  "metadata": {
    "colab": {
      "collapsed_sections": [],
      "provenance": []
    },
    "kernelspec": {
      "display_name": "Python 3",
      "name": "python3"
    },
    "language_info": {
      "name": "python"
    }
  },
  "nbformat": 4,
  "nbformat_minor": 0
}